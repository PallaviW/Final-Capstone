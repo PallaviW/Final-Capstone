{
 "cells": [
  {
   "cell_type": "markdown",
   "metadata": {},
   "source": [
    "## Predicting Twitter sentiments for Self-driving cars\n",
    "\n",
    "Based on given train data, we need to classify tweets about driverless cars as from very positive to very negative. \n",
    "\n",
    "5 - very positive\n",
    "\n",
    "4 - slightly positive\n",
    "\n",
    "3 - neutral\n",
    "\n",
    "2 - slightly negative\n",
    "\n",
    "1 - very negative\n",
    "\n",
    "There are train and test datasets.\n",
    "\n",
    "#### Acknowledgements\n",
    "\n",
    "Thanks crowdflower.com, for providing dataset."
   ]
  },
  {
   "cell_type": "code",
   "execution_count": 620,
   "metadata": {},
   "outputs": [],
   "source": [
    "from pyspark import SparkContext\n",
    "from pyspark.sql import SparkSession, SQLContext\n",
    "\n",
    "from pyspark.sql.types import IntegerType\n",
    "from pyspark.sql.functions import udf\n",
    "\n",
    "\n",
    "from pyspark.ml.feature import Tokenizer, Word2Vec\n",
    "from pyspark.ml.feature import HashingTF, IDF\n",
    "\n",
    "# these imports are how we build and manager our data science processes: cleaning data, preparing a model,\n",
    "# executing the model, and evaluating the model.\n",
    "from pyspark.ml import Pipeline\n",
    "from pyspark.ml.classification import RandomForestClassifier\n",
    "from pyspark.ml.feature import IndexToString, StringIndexer, VectorIndexer, VectorAssembler\n",
    "from pyspark.ml.evaluation import MulticlassClassificationEvaluator\n",
    "from pyspark.mllib.evaluation import BinaryClassificationMetrics\n",
    "from pyspark.ml.classification import LogisticRegression\n",
    "from pyspark.ml.tuning import ParamGridBuilder, CrossValidator\n",
    "from pyspark.sql.types import IntegerType\n",
    "\n",
    "import pandas as pd\n",
    "from sklearn.metrics import confusion_matrix\n",
    "from matplotlib import pyplot as plt\n",
    "import numpy as np\n",
    "import functools\n",
    "%matplotlib inline\n",
    "\n",
    "from pyspark.ml.feature import PCA\n",
    "from pyspark.ml.linalg import Vectors"
   ]
  },
  {
   "cell_type": "code",
   "execution_count": 621,
   "metadata": {},
   "outputs": [],
   "source": [
    "## constants\n",
    "DATA_NAME = \"/home/ds/notebooks/datasets/Twitter_data/train.csv\"\n",
    "APP_NAME = \"Sentiment Analysis with tweets\"\n",
    "SPARK_URL = \"local[*]\"\n",
    "RANDOM_SEED = 141107\n",
    "TRAINING_DATA_RATIO = 0.8\n",
    "RF_NUM_TREES = 200\n",
    "RF_MAX_DEPTH = 4\n",
    "RF_NUM_BINS = 32"
   ]
  },
  {
   "cell_type": "markdown",
   "metadata": {},
   "source": [
    "## Loading Data with Spark"
   ]
  },
  {
   "cell_type": "code",
   "execution_count": 622,
   "metadata": {},
   "outputs": [],
   "source": [
    "sc = SparkSession.builder.appName(APP_NAME).master(SPARK_URL).getOrCreate()\n",
    "sqlContext = SQLContext(sc)"
   ]
  },
  {
   "cell_type": "code",
   "execution_count": 623,
   "metadata": {},
   "outputs": [],
   "source": [
    "tweets_data = sqlContext.read.csv(DATA_NAME, header=True, mode=\"DROPMALFORMED\")"
   ]
  },
  {
   "cell_type": "code",
   "execution_count": 624,
   "metadata": {},
   "outputs": [
    {
     "name": "stdout",
     "output_type": "stream",
     "text": [
      "+---------+--------------------+\n",
      "|sentiment|                text|\n",
      "+---------+--------------------+\n",
      "|        5|@manjulamartin @K...|\n",
      "|        5|I want a Google d...|\n",
      "|        5|@Oatmeal @google ...|\n",
      "|        5|SO MUCH AWESOME! ...|\n",
      "|        5|@google is making...|\n",
      "|        5|You could call a ...|\n",
      "|        5|Ì¢‰âÂÒ@Marketpla...|\n",
      "|        5|Driverless taxis ...|\n",
      "|        5|This whole @googl...|\n",
      "|        5|Google's New Driv...|\n",
      "|        5|Riding in a drive...|\n",
      "|        5|This is the futur...|\n",
      "|        5|@NicoleLapin The ...|\n",
      "|        5|This is why we ne...|\n",
      "|        5|Google developed ...|\n",
      "|        5|@WOKVNews @jax_fl...|\n",
      "|        5|They're coming ou...|\n",
      "|        5|I want a driverle...|\n",
      "|        5|Driverless cars c...|\n",
      "|        5|#SKYNET Ì¢‰âÂÒ@S...|\n",
      "+---------+--------------------+\n",
      "only showing top 20 rows\n",
      "\n"
     ]
    }
   ],
   "source": [
    "tweets_data.show()"
   ]
  },
  {
   "cell_type": "code",
   "execution_count": 625,
   "metadata": {},
   "outputs": [
    {
     "name": "stdout",
     "output_type": "stream",
     "text": [
      "root\n",
      " |-- sentiment: string (nullable = true)\n",
      " |-- text: string (nullable = true)\n",
      "\n"
     ]
    }
   ],
   "source": [
    "tweets_data.printSchema()"
   ]
  },
  {
   "cell_type": "code",
   "execution_count": 394,
   "metadata": {},
   "outputs": [
    {
     "data": {
      "text/plain": [
       "967"
      ]
     },
     "execution_count": 394,
     "metadata": {},
     "output_type": "execute_result"
    }
   ],
   "source": [
    "tweets_data.count()"
   ]
  },
  {
   "cell_type": "code",
   "execution_count": 395,
   "metadata": {},
   "outputs": [],
   "source": [
    "tweets_data = tweets_data.dropna()"
   ]
  },
  {
   "cell_type": "code",
   "execution_count": 396,
   "metadata": {},
   "outputs": [
    {
     "data": {
      "text/plain": [
       "967"
      ]
     },
     "execution_count": 396,
     "metadata": {},
     "output_type": "execute_result"
    }
   ],
   "source": [
    "tweets_data.count()"
   ]
  },
  {
   "cell_type": "markdown",
   "metadata": {},
   "source": [
    "As data analysis shows that there are no null records also data is in texual format we can not perform prediction modelling on data unless we convert that data to numeric values. we have to extract features from text data to analyze it. Lets vizualize data first"
   ]
  },
  {
   "cell_type": "markdown",
   "metadata": {},
   "source": [
    "## Data Visualization"
   ]
  },
  {
   "cell_type": "code",
   "execution_count": 521,
   "metadata": {},
   "outputs": [],
   "source": [
    "#from pyspark.sql.types import IntegerType\n",
    "#tweets_data = tweets_data.withColumn(\"sentiment\", tweets_data[\"sentiment\"].cast(IntegerType()))"
   ]
  },
  {
   "cell_type": "code",
   "execution_count": 557,
   "metadata": {},
   "outputs": [
    {
     "data": {
      "text/plain": [
       "967"
      ]
     },
     "execution_count": 557,
     "metadata": {},
     "output_type": "execute_result"
    }
   ],
   "source": [
    "tweets_data.count()"
   ]
  },
  {
   "cell_type": "code",
   "execution_count": 397,
   "metadata": {},
   "outputs": [],
   "source": [
    "# Define function to handle sentiments\n",
    "#def tweeter_sentiment(x):\n",
    "    #if x > 3:  #sentiments with very positive, slightly positive\n",
    "     #   return 2\n",
    "    #elif x < 3: #sentiments with slightly negative, very negative\n",
    "        #return 1\n",
    "    #else:\n",
    "        #return 0 #sentiments with neutral"
   ]
  },
  {
   "cell_type": "code",
   "execution_count": 713,
   "metadata": {},
   "outputs": [],
   "source": [
    "#func_udf = udf(tweeter_sentiment, IntegerType())\n",
    "#tweets_data = tweets_data.withColumn('sentiment_encoded',func_udf(tweets_data['sentiment'].cast(IntegerType())))\n",
    "tweets_data = tweets_data.withColumn('sentiment_encoded',tweets_data['sentiment'].cast(IntegerType()))"
   ]
  },
  {
   "cell_type": "code",
   "execution_count": 714,
   "metadata": {},
   "outputs": [
    {
     "name": "stdout",
     "output_type": "stream",
     "text": [
      "+---------+--------------------+-----------------+\n",
      "|sentiment|                text|sentiment_encoded|\n",
      "+---------+--------------------+-----------------+\n",
      "|        5|@manjulamartin @K...|                5|\n",
      "|        5|I want a Google d...|                5|\n",
      "|        5|@Oatmeal @google ...|                5|\n",
      "|        5|SO MUCH AWESOME! ...|                5|\n",
      "|        5|@google is making...|                5|\n",
      "+---------+--------------------+-----------------+\n",
      "only showing top 5 rows\n",
      "\n"
     ]
    }
   ],
   "source": [
    "tweets_data.show(5)"
   ]
  },
  {
   "cell_type": "code",
   "execution_count": 715,
   "metadata": {},
   "outputs": [
    {
     "name": "stdout",
     "output_type": "stream",
     "text": [
      "+-----------------+-----+\n",
      "|sentiment_encoded|count|\n",
      "+-----------------+-----+\n",
      "|                1|   23|\n",
      "|                3|  595|\n",
      "|                5|   57|\n",
      "|                4|  177|\n",
      "|                2|  115|\n",
      "+-----------------+-----+\n",
      "\n"
     ]
    }
   ],
   "source": [
    "statuses = tweets_data.groupBy('sentiment_encoded').count().show()"
   ]
  },
  {
   "cell_type": "code",
   "execution_count": 717,
   "metadata": {},
   "outputs": [
    {
     "name": "stdout",
     "output_type": "stream",
     "text": [
      "[Row(sentiment='3', count=595), Row(sentiment='5', count=57), Row(sentiment='1', count=23), Row(sentiment='4', count=177), Row(sentiment='2', count=115)]\n",
      "['3', '5', '1', '4', '2']\n",
      "['neutral', 'very positive', 'very negative', 'slightly positive', 'slightly negative']\n"
     ]
    },
    {
     "data": {
      "text/plain": [
       "([<matplotlib.axis.XTick at 0x7f0fb8069a90>,\n",
       "  <matplotlib.axis.XTick at 0x7f0fb80f1c18>,\n",
       "  <matplotlib.axis.XTick at 0x7f0fb80f5dd8>,\n",
       "  <matplotlib.axis.XTick at 0x7f0fb19f4630>,\n",
       "  <matplotlib.axis.XTick at 0x7f0fbc814710>],\n",
       " <a list of 5 Text xticklabel objects>)"
      ]
     },
     "execution_count": 717,
     "metadata": {},
     "output_type": "execute_result"
    },
    {
     "data": {
      "image/png": "[encoded data removed]",
      "text/plain": [
       "<matplotlib.figure.Figure at 0x7f0fbc7ae358>"
      ]
     },
     "metadata": {},
     "output_type": "display_data"
    }
   ],
   "source": [
    "plt.rcParams['figure.figsize'] = (15, 5)\n",
    " \n",
    "#statuses = tweets_data.groupBy('sentiment_encoded').count().collect()\n",
    "statuses = tweets_data.groupBy('sentiment').count().collect()\n",
    "print(statuses)\n",
    "categories = [i[0] for i in statuses]\n",
    "counts = [i[1] for i in statuses]\n",
    "display_label = []\n",
    "\n",
    "#for item in categories:\n",
    "    #if item == 1:\n",
    "        #display_label.append('negative')\n",
    "    #elif item == 2:\n",
    "       # display_label.append('positive')\n",
    "    #else:\n",
    "        #display_label.append('neutral')\n",
    "print(categories)\n",
    "for item in categories:\n",
    "    if item == '5':\n",
    "        display_label.append('very positive')\n",
    "    elif item == '4':\n",
    "        display_label.append('slightly positive')\n",
    "    elif item == '3':\n",
    "        display_label.append('neutral')\n",
    "    elif item == '2':\n",
    "        display_label.append('slightly negative')\n",
    "    else:\n",
    "        display_label.append('very negative')\n",
    "        \n",
    "print(display_label)        \n",
    "ind = np.array(range(len(categories)))\n",
    "width = 0.35\n",
    "plt.bar(ind, counts, width=width, color='gyc')\n",
    " \n",
    "plt.ylabel('counts')\n",
    "plt.title('distribution')\n",
    "plt.xticks(ind, display_label)"
   ]
  },
  {
   "cell_type": "markdown",
   "metadata": {},
   "source": [
    "The above graph shows that sentiment for self driving car tweets is more of neutral compared to positive or negative. Lets find out some features for predictive modelling on the twitter data"
   ]
  },
  {
   "cell_type": "markdown",
   "metadata": {},
   "source": [
    "## Feature Extraction"
   ]
  },
  {
   "cell_type": "markdown",
   "metadata": {},
   "source": [
    "Lets try different techniques for feature engineering like word2vec or Tf/Idf to make data ready for predictive modelling"
   ]
  },
  {
   "cell_type": "markdown",
   "metadata": {},
   "source": [
    "### Word2Vec"
   ]
  },
  {
   "cell_type": "code",
   "execution_count": 718,
   "metadata": {},
   "outputs": [],
   "source": [
    "tokenized_data = Tokenizer(inputCol=\"text\", outputCol=\"tokenized_text\").transform(tweets_data)"
   ]
  },
  {
   "cell_type": "code",
   "execution_count": 719,
   "metadata": {},
   "outputs": [],
   "source": [
    "word2Vec = Word2Vec(vectorSize=300, seed=42, inputCol=\"tokenized_text\", outputCol=\"w2v_vector\").fit(tokenized_data)\n",
    "w2vdf=word2Vec.transform(tokenized_data)"
   ]
  },
  {
   "cell_type": "code",
   "execution_count": 720,
   "metadata": {},
   "outputs": [
    {
     "name": "stdout",
     "output_type": "stream",
     "text": [
      "root\n",
      " |-- sentiment: string (nullable = true)\n",
      " |-- text: string (nullable = true)\n",
      " |-- sentiment_encoded: integer (nullable = true)\n",
      " |-- tokenized_text: array (nullable = true)\n",
      " |    |-- element: string (containsNull = true)\n",
      " |-- w2v_vector: vector (nullable = true)\n",
      "\n"
     ]
    }
   ],
   "source": [
    "w2vdf.printSchema()"
   ]
  },
  {
   "cell_type": "code",
   "execution_count": 721,
   "metadata": {},
   "outputs": [
    {
     "name": "stdout",
     "output_type": "stream",
     "text": [
      "+---------+--------------------+--------------------+--------------------+\n",
      "|sentiment|                text|      tokenized_text|          w2v_vector|\n",
      "+---------+--------------------+--------------------+--------------------+\n",
      "|        5|@manjulamartin @K...|[@manjulamartin, ...|[0.00195620217564...|\n",
      "|        5|I want a Google d...|[i, want, a, goog...|[0.01613896682101...|\n",
      "|        5|@Oatmeal @google ...|[@oatmeal, @googl...|[0.01142727420665...|\n",
      "|        5|SO MUCH AWESOME! ...|[so, much, awesom...|[0.00425823115898...|\n",
      "|        5|@google is making...|[@google, is, mak...|[0.00704800314916...|\n",
      "|        5|You could call a ...|[you, could, call...|[0.00506992266807...|\n",
      "|        5|Ì¢‰âÂÒ@Marketpla...|[ì¢‰ââò@marketpl...|[0.00591101296330...|\n",
      "|        5|Driverless taxis ...|[driverless, taxi...|[0.01109385670618...|\n",
      "|        5|This whole @googl...|[this, whole, @go...|[0.00681427969935...|\n",
      "|        5|Google's New Driv...|[google's, new, d...|[0.00581081371961...|\n",
      "|        5|Riding in a drive...|[riding, in, a, d...|[0.00700959832722...|\n",
      "|        5|This is the futur...|[this, is, the, f...|[0.00538454561716...|\n",
      "|        5|@NicoleLapin The ...|[@nicolelapin, th...|[0.00541953135398...|\n",
      "|        5|This is why we ne...|[this, is, why, w...|[0.00911802430346...|\n",
      "|        5|Google developed ...|[google, develope...|[0.01002116555658...|\n",
      "|        5|@WOKVNews @jax_fl...|[@wokvnews, @jax_...|[0.00388369919382...|\n",
      "|        5|They're coming ou...|[they're, coming,...|[0.01400958408339...|\n",
      "|        5|I want a driverle...|[i, want, a, driv...|[0.01214915075356...|\n",
      "|        5|Driverless cars c...|[driverless, cars...|[0.00659389075423...|\n",
      "|        5|#SKYNET Ì¢‰âÂÒ@S...|[#skynet, ì¢‰ââò...|[0.00504870647670...|\n",
      "+---------+--------------------+--------------------+--------------------+\n",
      "only showing top 20 rows\n",
      "\n"
     ]
    }
   ],
   "source": [
    "w2vdf.select('sentiment','text','tokenized_text','w2v_vector').show()"
   ]
  },
  {
   "cell_type": "markdown",
   "metadata": {},
   "source": [
    "### TF/IDF"
   ]
  },
  {
   "cell_type": "code",
   "execution_count": 722,
   "metadata": {},
   "outputs": [],
   "source": [
    "hashingTF = HashingTF(inputCol=\"tokenized_text\", outputCol=\"tfidf_vector\", numFeatures=20)\n",
    "featurizedData = hashingTF.transform(tokenized_data)"
   ]
  },
  {
   "cell_type": "code",
   "execution_count": 723,
   "metadata": {},
   "outputs": [],
   "source": [
    "idf = IDF(inputCol=\"tfidf_vector\", outputCol=\"features\")\n",
    "idfModel = idf.fit(featurizedData)\n",
    "tfidf_df = idfModel.transform(featurizedData)"
   ]
  },
  {
   "cell_type": "code",
   "execution_count": 724,
   "metadata": {},
   "outputs": [
    {
     "name": "stdout",
     "output_type": "stream",
     "text": [
      "+---------+--------------------+-----------------+--------------------+--------------------+--------------------+\n",
      "|sentiment|                text|sentiment_encoded|      tokenized_text|        tfidf_vector|            features|\n",
      "+---------+--------------------+-----------------+--------------------+--------------------+--------------------+\n",
      "|        5|@manjulamartin @K...|                5|[@manjulamartin, ...|(20,[0,2,3,4,6,7,...|(20,[0,2,3,4,6,7,...|\n",
      "|        5|I want a Google d...|                5|[i, want, a, goog...|(20,[0,9,10,12,16...|(20,[0,9,10,12,16...|\n",
      "|        5|@Oatmeal @google ...|                5|[@oatmeal, @googl...|(20,[0,1,3,4,9,10...|(20,[0,1,3,4,9,10...|\n",
      "|        5|SO MUCH AWESOME! ...|                5|[so, much, awesom...|(20,[0,2,4,5,6,8,...|(20,[0,2,4,5,6,8,...|\n",
      "|        5|@google is making...|                5|[@google, is, mak...|(20,[0,1,8,10,16,...|(20,[0,1,8,10,16,...|\n",
      "+---------+--------------------+-----------------+--------------------+--------------------+--------------------+\n",
      "only showing top 5 rows\n",
      "\n"
     ]
    }
   ],
   "source": [
    "tfidf_df.show(5)"
   ]
  },
  {
   "cell_type": "markdown",
   "metadata": {},
   "source": [
    "## Data Modelling"
   ]
  },
  {
   "cell_type": "markdown",
   "metadata": {},
   "source": [
    "### Random Forest Classifier"
   ]
  },
  {
   "cell_type": "markdown",
   "metadata": {},
   "source": [
    "As we tried different ways for feature extraction, lets try to perform random forest classifier on those datasets to see which one performs better"
   ]
  },
  {
   "cell_type": "markdown",
   "metadata": {},
   "source": [
    "#### Random Forest with Word2Vec"
   ]
  },
  {
   "cell_type": "code",
   "execution_count": 727,
   "metadata": {},
   "outputs": [],
   "source": [
    "# Build the training indexers/split data/classifier\n",
    "# first we'll generate a labelIndexer\n",
    "labelIndexer = StringIndexer(inputCol=\"sentiment\", outputCol=\"indexedLabel\").fit(w2vdf)\n",
    "\n",
    "# now generate the indexed feature vector.\n",
    "featureIndexer = VectorIndexer(inputCol=\"w2v_vector\", outputCol=\"indexedFeatures\", maxCategories=5).fit(w2vdf)\n",
    "    \n",
    "# Split the data into training and validation sets (30% held out for testing)\n",
    "(trainingData, testData) = w2vdf.randomSplit([TRAINING_DATA_RATIO, 1 - TRAINING_DATA_RATIO])\n",
    "\n",
    "# Train a RandomForest model.\n",
    "rf = RandomForestClassifier(labelCol=\"indexedLabel\", featuresCol=\"indexedFeatures\", numTrees=RF_NUM_TREES)\n",
    "\n",
    "# Convert indexed labels back to original labels.\n",
    "labelConverter = IndexToString(inputCol=\"prediction\", outputCol=\"predictedLabel\",\n",
    "                               labels=labelIndexer.labels)\n",
    "\n",
    "# Chain indexers and forest in a Pipeline\n",
    "pipeline = Pipeline(stages=[labelIndexer, featureIndexer, rf, labelConverter])"
   ]
  },
  {
   "cell_type": "code",
   "execution_count": 728,
   "metadata": {},
   "outputs": [],
   "source": [
    "# Train model.  This also runs the indexers.\n",
    "model = pipeline.fit(trainingData)\n",
    "\n",
    "# Make predictions.\n",
    "predictions = model.transform(testData)"
   ]
  },
  {
   "cell_type": "code",
   "execution_count": 729,
   "metadata": {},
   "outputs": [
    {
     "name": "stdout",
     "output_type": "stream",
     "text": [
      "+---------+--------------------+--------------------+----------+--------------+\n",
      "|sentiment|          w2v_vector|         probability|prediction|predictedLabel|\n",
      "+---------+--------------------+--------------------+----------+--------------+\n",
      "|        1|[0.00788420691969...|[0.70060010928181...|       0.0|             3|\n",
      "|        1|[0.00346490017060...|[0.48143189791398...|       0.0|             3|\n",
      "|        1|[0.00354269497936...|[0.47950792966792...|       0.0|             3|\n",
      "|        1|[0.00801549779716...|[0.56599194509255...|       0.0|             3|\n",
      "|        1|[0.00495200723697...|[0.50674446432616...|       0.0|             3|\n",
      "|        2|[0.00483414915177...|[0.56832170403602...|       0.0|             3|\n",
      "|        2|[0.00671476894058...|[0.63137778109392...|       0.0|             3|\n",
      "|        2|[0.00264964997009...|[0.49337217972828...|       0.0|             3|\n",
      "|        2|[-0.0014114782639...|[0.53884055254912...|       0.0|             3|\n",
      "|        2|[0.00561993133887...|[0.59094125020295...|       0.0|             3|\n",
      "+---------+--------------------+--------------------+----------+--------------+\n",
      "only showing top 10 rows\n",
      "\n"
     ]
    }
   ],
   "source": [
    "predictions.select('sentiment','w2v_vector','probability','prediction','predictedLabel').show(10)"
   ]
  },
  {
   "cell_type": "code",
   "execution_count": 730,
   "metadata": {},
   "outputs": [
    {
     "name": "stdout",
     "output_type": "stream",
     "text": [
      "root\n",
      " |-- sentiment: string (nullable = true)\n",
      " |-- text: string (nullable = true)\n",
      " |-- sentiment_encoded: integer (nullable = true)\n",
      " |-- tokenized_text: array (nullable = true)\n",
      " |    |-- element: string (containsNull = true)\n",
      " |-- w2v_vector: vector (nullable = true)\n",
      " |-- indexedLabel: double (nullable = true)\n",
      " |-- indexedFeatures: vector (nullable = true)\n",
      " |-- rawPrediction: vector (nullable = true)\n",
      " |-- probability: vector (nullable = true)\n",
      " |-- prediction: double (nullable = true)\n",
      " |-- predictedLabel: string (nullable = true)\n",
      "\n"
     ]
    }
   ],
   "source": [
    "predictions.printSchema()"
   ]
  },
  {
   "cell_type": "code",
   "execution_count": 731,
   "metadata": {},
   "outputs": [
    {
     "name": "stdout",
     "output_type": "stream",
     "text": [
      "Test Error = 0.369048\n",
      "Accuracy = 0.630952\n"
     ]
    }
   ],
   "source": [
    "# Select (prediction, true label) and compute test error\n",
    "evaluator = MulticlassClassificationEvaluator(\n",
    "    labelCol=\"indexedLabel\", predictionCol=\"prediction\", metricName=\"accuracy\")\n",
    "accuracy = evaluator.evaluate(predictions)\n",
    "\n",
    "print(f\"Test Error = {(1.0 - accuracy):g}\")\n",
    "print(f\"Accuracy = {accuracy:g}\")"
   ]
  },
  {
   "cell_type": "code",
   "execution_count": 732,
   "metadata": {},
   "outputs": [
    {
     "data": {
      "text/html": [
       "<div>\n",
       "<style scoped>\n",
       "    .dataframe tbody tr th:only-of-type {\n",
       "        vertical-align: middle;\n",
       "    }\n",
       "\n",
       "    .dataframe tbody tr th {\n",
       "        vertical-align: top;\n",
       "    }\n",
       "\n",
       "    .dataframe thead th {\n",
       "        text-align: right;\n",
       "    }\n",
       "</style>\n",
       "<table border=\"1\" class=\"dataframe\">\n",
       "  <thead>\n",
       "    <tr style=\"text-align: right;\">\n",
       "      <th></th>\n",
       "      <th>neutral</th>\n",
       "      <th>very positive</th>\n",
       "      <th>very negative</th>\n",
       "      <th>slightly positive</th>\n",
       "      <th>slightly negative</th>\n",
       "    </tr>\n",
       "  </thead>\n",
       "  <tbody>\n",
       "    <tr>\n",
       "      <th>neutral</th>\n",
       "      <td>0</td>\n",
       "      <td>0</td>\n",
       "      <td>5</td>\n",
       "      <td>0</td>\n",
       "      <td>0</td>\n",
       "    </tr>\n",
       "    <tr>\n",
       "      <th>very positive</th>\n",
       "      <td>0</td>\n",
       "      <td>0</td>\n",
       "      <td>21</td>\n",
       "      <td>0</td>\n",
       "      <td>0</td>\n",
       "    </tr>\n",
       "    <tr>\n",
       "      <th>very negative</th>\n",
       "      <td>0</td>\n",
       "      <td>0</td>\n",
       "      <td>106</td>\n",
       "      <td>0</td>\n",
       "      <td>0</td>\n",
       "    </tr>\n",
       "    <tr>\n",
       "      <th>slightly positive</th>\n",
       "      <td>0</td>\n",
       "      <td>0</td>\n",
       "      <td>28</td>\n",
       "      <td>0</td>\n",
       "      <td>0</td>\n",
       "    </tr>\n",
       "    <tr>\n",
       "      <th>slightly negative</th>\n",
       "      <td>0</td>\n",
       "      <td>0</td>\n",
       "      <td>8</td>\n",
       "      <td>0</td>\n",
       "      <td>0</td>\n",
       "    </tr>\n",
       "  </tbody>\n",
       "</table>\n",
       "</div>"
      ],
      "text/plain": [
       "                   neutral  very positive  very negative  slightly positive  \\\n",
       "neutral                  0              0              5                  0   \n",
       "very positive            0              0             21                  0   \n",
       "very negative            0              0            106                  0   \n",
       "slightly positive        0              0             28                  0   \n",
       "slightly negative        0              0              8                  0   \n",
       "\n",
       "                   slightly negative  \n",
       "neutral                            0  \n",
       "very positive                      0  \n",
       "very negative                      0  \n",
       "slightly positive                  0  \n",
       "slightly negative                  0  "
      ]
     },
     "execution_count": 732,
     "metadata": {},
     "output_type": "execute_result"
    }
   ],
   "source": [
    "pd.DataFrame(confusion_matrix(predictions.select('sentiment').collect(), \n",
    "             predictions.select('predictedLabel').collect()),\n",
    "             columns = display_label, \n",
    "             index= display_label)"
   ]
  },
  {
   "cell_type": "markdown",
   "metadata": {},
   "source": [
    "#### Random Forest with TF/IDF"
   ]
  },
  {
   "cell_type": "code",
   "execution_count": 733,
   "metadata": {},
   "outputs": [],
   "source": [
    "# Build the training indexers/split data/classifier\n",
    "# first we'll generate a labelIndexer\n",
    "labelIndexer = StringIndexer(inputCol=\"sentiment\", outputCol=\"indexedLabel\").fit(tfidf_df)\n",
    "\n",
    "# now generate the indexed feature vector.\n",
    "featureIndexer = VectorIndexer(inputCol=\"tfidf_vector\", outputCol=\"indexedFeatures\", maxCategories=5).fit(tfidf_df)\n",
    "    \n",
    "# Split the data into training and validation sets (30% held out for testing)\n",
    "(trainingData_tf, testData_tf) = tfidf_df.randomSplit([TRAINING_DATA_RATIO, 1 - TRAINING_DATA_RATIO])\n",
    "\n",
    "# Convert indexed labels back to original labels.\n",
    "labelConverter = IndexToString(inputCol=\"prediction\", outputCol=\"predictedLabel\",\n",
    "                               labels=labelIndexer.labels)\n",
    "\n",
    "# Chain indexers and forest in a Pipeline\n",
    "pipeline = Pipeline(stages=[labelIndexer, featureIndexer, rf, labelConverter])"
   ]
  },
  {
   "cell_type": "code",
   "execution_count": 734,
   "metadata": {},
   "outputs": [],
   "source": [
    "# Train model.  This also runs the indexers.\n",
    "model = pipeline.fit(trainingData_tf)\n",
    "\n",
    "# Make predictions.\n",
    "predictions = model.transform(testData_tf)"
   ]
  },
  {
   "cell_type": "code",
   "execution_count": 735,
   "metadata": {},
   "outputs": [
    {
     "name": "stdout",
     "output_type": "stream",
     "text": [
      "Test Error = 0.364583\n",
      "Accuracy = 0.635417\n"
     ]
    }
   ],
   "source": [
    "# Select (prediction, true label) and compute test error\n",
    "evaluator = MulticlassClassificationEvaluator(\n",
    "    labelCol=\"indexedLabel\", predictionCol=\"prediction\", metricName=\"accuracy\")\n",
    "accuracy = evaluator.evaluate(predictions)\n",
    "\n",
    "print(f\"Test Error = {(1.0 - accuracy):g}\")\n",
    "print(f\"Accuracy = {accuracy:g}\")"
   ]
  },
  {
   "cell_type": "code",
   "execution_count": 736,
   "metadata": {},
   "outputs": [
    {
     "data": {
      "text/html": [
       "<div>\n",
       "<style scoped>\n",
       "    .dataframe tbody tr th:only-of-type {\n",
       "        vertical-align: middle;\n",
       "    }\n",
       "\n",
       "    .dataframe tbody tr th {\n",
       "        vertical-align: top;\n",
       "    }\n",
       "\n",
       "    .dataframe thead th {\n",
       "        text-align: right;\n",
       "    }\n",
       "</style>\n",
       "<table border=\"1\" class=\"dataframe\">\n",
       "  <thead>\n",
       "    <tr style=\"text-align: right;\">\n",
       "      <th></th>\n",
       "      <th>neutral</th>\n",
       "      <th>very positive</th>\n",
       "      <th>very negative</th>\n",
       "      <th>slightly positive</th>\n",
       "      <th>slightly negative</th>\n",
       "    </tr>\n",
       "  </thead>\n",
       "  <tbody>\n",
       "    <tr>\n",
       "      <th>neutral</th>\n",
       "      <td>0</td>\n",
       "      <td>0</td>\n",
       "      <td>5</td>\n",
       "      <td>0</td>\n",
       "      <td>0</td>\n",
       "    </tr>\n",
       "    <tr>\n",
       "      <th>very positive</th>\n",
       "      <td>0</td>\n",
       "      <td>0</td>\n",
       "      <td>17</td>\n",
       "      <td>0</td>\n",
       "      <td>0</td>\n",
       "    </tr>\n",
       "    <tr>\n",
       "      <th>very negative</th>\n",
       "      <td>0</td>\n",
       "      <td>0</td>\n",
       "      <td>122</td>\n",
       "      <td>0</td>\n",
       "      <td>0</td>\n",
       "    </tr>\n",
       "    <tr>\n",
       "      <th>slightly positive</th>\n",
       "      <td>0</td>\n",
       "      <td>0</td>\n",
       "      <td>37</td>\n",
       "      <td>0</td>\n",
       "      <td>0</td>\n",
       "    </tr>\n",
       "    <tr>\n",
       "      <th>slightly negative</th>\n",
       "      <td>0</td>\n",
       "      <td>0</td>\n",
       "      <td>11</td>\n",
       "      <td>0</td>\n",
       "      <td>0</td>\n",
       "    </tr>\n",
       "  </tbody>\n",
       "</table>\n",
       "</div>"
      ],
      "text/plain": [
       "                   neutral  very positive  very negative  slightly positive  \\\n",
       "neutral                  0              0              5                  0   \n",
       "very positive            0              0             17                  0   \n",
       "very negative            0              0            122                  0   \n",
       "slightly positive        0              0             37                  0   \n",
       "slightly negative        0              0             11                  0   \n",
       "\n",
       "                   slightly negative  \n",
       "neutral                            0  \n",
       "very positive                      0  \n",
       "very negative                      0  \n",
       "slightly positive                  0  \n",
       "slightly negative                  0  "
      ]
     },
     "execution_count": 736,
     "metadata": {},
     "output_type": "execute_result"
    }
   ],
   "source": [
    "pd.DataFrame(confusion_matrix(predictions.select('sentiment').collect(), \n",
    "             predictions.select('predictedLabel').collect()),\n",
    "             columns = display_label, \n",
    "             index= display_label)"
   ]
  },
  {
   "cell_type": "markdown",
   "metadata": {},
   "source": [
    "It looks like Tf/idf data perform better with Random Forest compared to word2vec"
   ]
  },
  {
   "cell_type": "markdown",
   "metadata": {},
   "source": [
    "### Logistic Regression"
   ]
  },
  {
   "cell_type": "markdown",
   "metadata": {},
   "source": [
    "#### Logistic regression with word2vec"
   ]
  },
  {
   "cell_type": "code",
   "execution_count": 737,
   "metadata": {},
   "outputs": [],
   "source": [
    "lr = LogisticRegression(featuresCol=\"w2v_vector\", labelCol=\"sentiment_encoded\",predictionCol=\"prediction\", maxIter=10,\n",
    "                        regParam=0.3, elasticNetParam=0.8, family=\"multinomial\")\n",
    "\n",
    "# Fit the model\n",
    "lrModel = lr.fit(trainingData)\n",
    "# Make predictions.\n",
    "predictions = lrModel.transform(testData)"
   ]
  },
  {
   "cell_type": "code",
   "execution_count": 738,
   "metadata": {},
   "outputs": [
    {
     "name": "stdout",
     "output_type": "stream",
     "text": [
      "Test Error = 0.369048\n",
      "Accuracy = 0.630952\n"
     ]
    }
   ],
   "source": [
    "# Select (prediction, true label) and compute test error\n",
    "evaluator = MulticlassClassificationEvaluator(\n",
    "    labelCol=\"sentiment_encoded\", predictionCol=\"prediction\", metricName=\"accuracy\")\n",
    "accuracy = evaluator.evaluate(predictions)\n",
    "\n",
    "print(f\"Test Error = {(1.0 - accuracy):g}\")\n",
    "print(f\"Accuracy = {accuracy:g}\")"
   ]
  },
  {
   "cell_type": "code",
   "execution_count": 739,
   "metadata": {
    "scrolled": true
   },
   "outputs": [
    {
     "name": "stdout",
     "output_type": "stream",
     "text": [
      "Test Error = 0.369048\n",
      "Accuracy = 0.630952\n"
     ]
    }
   ],
   "source": [
    "# Create ParamGrid for Cross Validation\n",
    "paramGrid = (ParamGridBuilder()\n",
    "             .addGrid(lr.regParam, [0.1, 0.3, 0.5]) # regularization parameter\n",
    "             .addGrid(lr.elasticNetParam, [0.0, 0.1, 0.2]) # Elastic Net Parameter (Ridge = 0)\n",
    "             .build())\n",
    "# Create 5-fold CrossValidator\n",
    "evaluator = MulticlassClassificationEvaluator(\n",
    "    labelCol=\"sentiment_encoded\", predictionCol=\"prediction\", metricName=\"accuracy\")\n",
    "cv = CrossValidator(estimator=lr, \\\n",
    "                    estimatorParamMaps=paramGrid, \\\n",
    "                    evaluator=evaluator, \\\n",
    "                    numFolds=5)\n",
    "cvModel = cv.fit(trainingData)\n",
    "\n",
    "predictions = cvModel.transform(testData)\n",
    "# Evaluate best model\n",
    "\n",
    "accuracy = evaluator.evaluate(predictions)\n",
    "\n",
    "print(f\"Test Error = {(1.0 - accuracy):g}\")\n",
    "print(f\"Accuracy = {accuracy:g}\")"
   ]
  },
  {
   "cell_type": "markdown",
   "metadata": {},
   "source": [
    "#### Logistic Regression with TF/IDF"
   ]
  },
  {
   "cell_type": "code",
   "execution_count": 740,
   "metadata": {},
   "outputs": [],
   "source": [
    "lr = LogisticRegression(featuresCol=\"features\", labelCol=\"sentiment_encoded\",predictionCol=\"prediction\", maxIter=10,\n",
    "                        regParam=0.3, elasticNetParam=0.8, family=\"multinomial\")\n",
    "\n",
    "# Fit the model\n",
    "lrModel_tf = lr.fit(trainingData_tf)\n",
    "# Make predictions.\n",
    "predictions = lrModel_tf.transform(testData_tf)"
   ]
  },
  {
   "cell_type": "code",
   "execution_count": 741,
   "metadata": {},
   "outputs": [
    {
     "name": "stdout",
     "output_type": "stream",
     "text": [
      "Test Error = 0.364583\n",
      "Accuracy = 0.635417\n"
     ]
    }
   ],
   "source": [
    "# Select (prediction, true label) and compute test error\n",
    "evaluator = MulticlassClassificationEvaluator(\n",
    "    labelCol=\"sentiment_encoded\", predictionCol=\"prediction\", metricName=\"accuracy\")\n",
    "accuracy = evaluator.evaluate(predictions)\n",
    "\n",
    "print(f\"Test Error = {(1.0 - accuracy):g}\")\n",
    "print(f\"Accuracy = {accuracy:g}\")"
   ]
  },
  {
   "cell_type": "code",
   "execution_count": 742,
   "metadata": {},
   "outputs": [
    {
     "name": "stdout",
     "output_type": "stream",
     "text": [
      "Test Error = 0.364583\n",
      "Accuracy = 0.635417\n"
     ]
    }
   ],
   "source": [
    "# Create ParamGrid for Cross Validation\n",
    "paramGrid = (ParamGridBuilder()\n",
    "             .addGrid(lr.regParam, [0.1, 0.3, 0.5]) # regularization parameter\n",
    "             .addGrid(lr.elasticNetParam, [0.0, 0.1, 0.2]) # Elastic Net Parameter (Ridge = 0)\n",
    "             .build())\n",
    "# Create 5-fold CrossValidator\n",
    "evaluator = MulticlassClassificationEvaluator(\n",
    "    labelCol=\"sentiment_encoded\", predictionCol=\"prediction\", metricName=\"accuracy\")\n",
    "cv = CrossValidator(estimator=lr, \\\n",
    "                    estimatorParamMaps=paramGrid, \\\n",
    "                    evaluator=evaluator, \\\n",
    "                    numFolds=5)\n",
    "cvModel = cv.fit(trainingData_tf)\n",
    "\n",
    "predictions = cvModel.transform(testData_tf)\n",
    "# Evaluate best model\n",
    "\n",
    "accuracy = evaluator.evaluate(predictions)\n",
    "\n",
    "print(f\"Test Error = {(1.0 - accuracy):g}\")\n",
    "print(f\"Accuracy = {accuracy:g}\")"
   ]
  },
  {
   "cell_type": "code",
   "execution_count": 743,
   "metadata": {},
   "outputs": [
    {
     "data": {
      "text/html": [
       "<div>\n",
       "<style scoped>\n",
       "    .dataframe tbody tr th:only-of-type {\n",
       "        vertical-align: middle;\n",
       "    }\n",
       "\n",
       "    .dataframe tbody tr th {\n",
       "        vertical-align: top;\n",
       "    }\n",
       "\n",
       "    .dataframe thead th {\n",
       "        text-align: right;\n",
       "    }\n",
       "</style>\n",
       "<table border=\"1\" class=\"dataframe\">\n",
       "  <thead>\n",
       "    <tr style=\"text-align: right;\">\n",
       "      <th></th>\n",
       "      <th>neutral</th>\n",
       "      <th>very positive</th>\n",
       "      <th>very negative</th>\n",
       "      <th>slightly positive</th>\n",
       "      <th>slightly negative</th>\n",
       "    </tr>\n",
       "  </thead>\n",
       "  <tbody>\n",
       "    <tr>\n",
       "      <th>neutral</th>\n",
       "      <td>0</td>\n",
       "      <td>0</td>\n",
       "      <td>5</td>\n",
       "      <td>0</td>\n",
       "      <td>0</td>\n",
       "    </tr>\n",
       "    <tr>\n",
       "      <th>very positive</th>\n",
       "      <td>0</td>\n",
       "      <td>0</td>\n",
       "      <td>17</td>\n",
       "      <td>0</td>\n",
       "      <td>0</td>\n",
       "    </tr>\n",
       "    <tr>\n",
       "      <th>very negative</th>\n",
       "      <td>0</td>\n",
       "      <td>0</td>\n",
       "      <td>122</td>\n",
       "      <td>0</td>\n",
       "      <td>0</td>\n",
       "    </tr>\n",
       "    <tr>\n",
       "      <th>slightly positive</th>\n",
       "      <td>0</td>\n",
       "      <td>0</td>\n",
       "      <td>37</td>\n",
       "      <td>0</td>\n",
       "      <td>0</td>\n",
       "    </tr>\n",
       "    <tr>\n",
       "      <th>slightly negative</th>\n",
       "      <td>0</td>\n",
       "      <td>0</td>\n",
       "      <td>11</td>\n",
       "      <td>0</td>\n",
       "      <td>0</td>\n",
       "    </tr>\n",
       "  </tbody>\n",
       "</table>\n",
       "</div>"
      ],
      "text/plain": [
       "                   neutral  very positive  very negative  slightly positive  \\\n",
       "neutral                  0              0              5                  0   \n",
       "very positive            0              0             17                  0   \n",
       "very negative            0              0            122                  0   \n",
       "slightly positive        0              0             37                  0   \n",
       "slightly negative        0              0             11                  0   \n",
       "\n",
       "                   slightly negative  \n",
       "neutral                            0  \n",
       "very positive                      0  \n",
       "very negative                      0  \n",
       "slightly positive                  0  \n",
       "slightly negative                  0  "
      ]
     },
     "execution_count": 743,
     "metadata": {},
     "output_type": "execute_result"
    }
   ],
   "source": [
    "pd.DataFrame(confusion_matrix(predictions.select('sentiment_encoded').collect(), \n",
    "             predictions.select('prediction').collect()),\n",
    "             columns = display_label, \n",
    "             index= display_label)"
   ]
  },
  {
   "cell_type": "markdown",
   "metadata": {},
   "source": [
    "### Naive Bayes Classifier"
   ]
  },
  {
   "cell_type": "code",
   "execution_count": 749,
   "metadata": {},
   "outputs": [],
   "source": [
    "from pyspark.ml.classification import NaiveBayes\n",
    "nb = NaiveBayes(labelCol=\"sentiment_encoded\", featuresCol=\"features\", smoothing=1)\n",
    "model = nb.fit(trainingData_tf)\n",
    "predictions_nb = model.transform(testData_tf)"
   ]
  },
  {
   "cell_type": "code",
   "execution_count": 750,
   "metadata": {},
   "outputs": [
    {
     "name": "stdout",
     "output_type": "stream",
     "text": [
      "+---------+--------------------+-----------------+--------------------+--------------------+--------------------+--------------------+--------------------+----------+\n",
      "|sentiment|                text|sentiment_encoded|      tokenized_text|        tfidf_vector|            features|       rawPrediction|         probability|prediction|\n",
      "+---------+--------------------+-----------------+--------------------+--------------------+--------------------+--------------------+--------------------+----------+\n",
      "|        1|Also, cars with d...|                1|[also,, cars, wit...|(20,[0,1,4,5,8,10...|(20,[0,1,4,5,8,10...|[-34.991220382687...|[0.01345379266100...|       2.0|\n",
      "|        1|Driverless Cars: ...|                1|[driverless, cars...|(20,[0,1,4,5,6,8,...|(20,[0,1,4,5,6,8,...|[-34.326147156903...|[0.02871811555264...|       2.0|\n",
      "|        1|Driverless cars. ...|                1|[driverless, cars...|(20,[0,9,12,14,15...|(20,[0,9,12,14,15...|[-21.013147791562...|[0.03823751585407...|       2.0|\n",
      "|        1|Driverless cars?!...|                1|[driverless, cars...|(20,[0,1,4,5,6,8,...|(20,[0,1,4,5,6,8,...|[-21.695650402389...|[0.01671115811111...|       2.0|\n",
      "|        1|They're on about ...|                1|[they're, on, abo...|(20,[0,1,2,6,8,10...|(20,[0,1,2,6,8,10...|[-28.476939512158...|[0.03026552967789...|       2.0|\n",
      "+---------+--------------------+-----------------+--------------------+--------------------+--------------------+--------------------+--------------------+----------+\n",
      "only showing top 5 rows\n",
      "\n"
     ]
    }
   ],
   "source": [
    "predictions_nb.show(5)"
   ]
  },
  {
   "cell_type": "code",
   "execution_count": 751,
   "metadata": {},
   "outputs": [
    {
     "name": "stdout",
     "output_type": "stream",
     "text": [
      "Test Error = 0.911458\n",
      "Accuracy = 0.0885417\n"
     ]
    }
   ],
   "source": [
    "# Select (prediction, true label) and compute test error\n",
    "evaluator = MulticlassClassificationEvaluator(\n",
    "    labelCol=\"sentiment_encoded\", predictionCol=\"prediction\", metricName=\"accuracy\")\n",
    "accuracy = evaluator.evaluate(predictions_nb)\n",
    "\n",
    "print(f\"Test Error = {(1.0 - accuracy):g}\")\n",
    "print(f\"Accuracy = {accuracy:g}\")"
   ]
  },
  {
   "cell_type": "code",
   "execution_count": 752,
   "metadata": {},
   "outputs": [
    {
     "data": {
      "text/html": [
       "<div>\n",
       "<style scoped>\n",
       "    .dataframe tbody tr th:only-of-type {\n",
       "        vertical-align: middle;\n",
       "    }\n",
       "\n",
       "    .dataframe tbody tr th {\n",
       "        vertical-align: top;\n",
       "    }\n",
       "\n",
       "    .dataframe thead th {\n",
       "        text-align: right;\n",
       "    }\n",
       "</style>\n",
       "<table border=\"1\" class=\"dataframe\">\n",
       "  <thead>\n",
       "    <tr style=\"text-align: right;\">\n",
       "      <th></th>\n",
       "      <th>neutral</th>\n",
       "      <th>very positive</th>\n",
       "      <th>very negative</th>\n",
       "      <th>slightly positive</th>\n",
       "      <th>slightly negative</th>\n",
       "    </tr>\n",
       "  </thead>\n",
       "  <tbody>\n",
       "    <tr>\n",
       "      <th>neutral</th>\n",
       "      <td>0</td>\n",
       "      <td>5</td>\n",
       "      <td>0</td>\n",
       "      <td>0</td>\n",
       "      <td>0</td>\n",
       "    </tr>\n",
       "    <tr>\n",
       "      <th>very positive</th>\n",
       "      <td>0</td>\n",
       "      <td>17</td>\n",
       "      <td>0</td>\n",
       "      <td>0</td>\n",
       "      <td>0</td>\n",
       "    </tr>\n",
       "    <tr>\n",
       "      <th>very negative</th>\n",
       "      <td>0</td>\n",
       "      <td>122</td>\n",
       "      <td>0</td>\n",
       "      <td>0</td>\n",
       "      <td>0</td>\n",
       "    </tr>\n",
       "    <tr>\n",
       "      <th>slightly positive</th>\n",
       "      <td>0</td>\n",
       "      <td>37</td>\n",
       "      <td>0</td>\n",
       "      <td>0</td>\n",
       "      <td>0</td>\n",
       "    </tr>\n",
       "    <tr>\n",
       "      <th>slightly negative</th>\n",
       "      <td>0</td>\n",
       "      <td>11</td>\n",
       "      <td>0</td>\n",
       "      <td>0</td>\n",
       "      <td>0</td>\n",
       "    </tr>\n",
       "  </tbody>\n",
       "</table>\n",
       "</div>"
      ],
      "text/plain": [
       "                   neutral  very positive  very negative  slightly positive  \\\n",
       "neutral                  0              5              0                  0   \n",
       "very positive            0             17              0                  0   \n",
       "very negative            0            122              0                  0   \n",
       "slightly positive        0             37              0                  0   \n",
       "slightly negative        0             11              0                  0   \n",
       "\n",
       "                   slightly negative  \n",
       "neutral                            0  \n",
       "very positive                      0  \n",
       "very negative                      0  \n",
       "slightly positive                  0  \n",
       "slightly negative                  0  "
      ]
     },
     "execution_count": 752,
     "metadata": {},
     "output_type": "execute_result"
    }
   ],
   "source": [
    "pd.DataFrame(confusion_matrix(predictions_nb.select('sentiment_encoded').collect(), \n",
    "             predictions_nb.select('prediction').collect()),\n",
    "             columns = display_label, \n",
    "             index= display_label)"
   ]
  },
  {
   "cell_type": "markdown",
   "metadata": {},
   "source": [
    "### PCA"
   ]
  },
  {
   "cell_type": "markdown",
   "metadata": {},
   "source": [
    "##### PCA with word2vec data and Random Forest"
   ]
  },
  {
   "cell_type": "code",
   "execution_count": 753,
   "metadata": {},
   "outputs": [],
   "source": [
    "pca = PCA(k=100, inputCol=\"w2v_vector\", outputCol=\"pcaFeatures\")\n",
    "model = pca.fit(w2vdf)\n",
    "\n",
    "result = model.transform(w2vdf)"
   ]
  },
  {
   "cell_type": "code",
   "execution_count": 762,
   "metadata": {},
   "outputs": [],
   "source": [
    "# Build the training indexers / split data / classifier\n",
    "# first we'll generate a labelIndexer\n",
    "labelIndexer = StringIndexer(inputCol=\"sentiment\", outputCol=\"indexedLabel\").fit(result)\n",
    "\n",
    "# now generate the indexed feature vector\n",
    "featureIndexer = VectorIndexer(inputCol=\"pcaFeatures\", outputCol=\"indexedFeatures\", maxCategories=4).fit(result)\n",
    "    \n",
    "# Split the data into training and validation sets (30% held out for testing)\n",
    "(pca_trainingData, pca_testData) = result.randomSplit([TRAINING_DATA_RATIO, 1 - TRAINING_DATA_RATIO])\n",
    "\n",
    "# Train a RandomForest model.\n",
    "rf = RandomForestClassifier(labelCol=\"indexedLabel\", featuresCol=\"indexedFeatures\", numTrees=RF_NUM_TREES)\n",
    "\n",
    "# Convert indexed labels back to original labels.\n",
    "labelConverter = IndexToString(inputCol=\"prediction\", outputCol=\"predictedLabel\",\n",
    "                               labels=labelIndexer.labels)\n",
    "\n",
    "# Chain indexers and forest in a Pipeline\n",
    "pipeline = Pipeline(stages=[labelIndexer, featureIndexer, rf, labelConverter])"
   ]
  },
  {
   "cell_type": "code",
   "execution_count": 763,
   "metadata": {},
   "outputs": [],
   "source": [
    "# Train model.  This also runs the indexers.\n",
    "pca_model = pipeline.fit(pca_trainingData)\n",
    "# Make predictions.\n",
    "pca_predictions = pca_model.transform(pca_testData)"
   ]
  },
  {
   "cell_type": "code",
   "execution_count": 764,
   "metadata": {},
   "outputs": [
    {
     "name": "stdout",
     "output_type": "stream",
     "text": [
      "Test Error = 0.429319\n",
      "Accuracy = 0.570681\n"
     ]
    }
   ],
   "source": [
    "# Select (prediction, true label) and compute test error\n",
    "evaluator = MulticlassClassificationEvaluator(\n",
    "    labelCol=\"indexedLabel\", predictionCol=\"prediction\", metricName=\"accuracy\")\n",
    "accuracy = evaluator.evaluate(pca_predictions)\n",
    "\n",
    "print(f\"Test Error = {(1.0 - accuracy):g}\")\n",
    "print(f\"Accuracy = {accuracy:g}\")"
   ]
  },
  {
   "cell_type": "code",
   "execution_count": 765,
   "metadata": {},
   "outputs": [
    {
     "data": {
      "text/html": [
       "<div>\n",
       "<style scoped>\n",
       "    .dataframe tbody tr th:only-of-type {\n",
       "        vertical-align: middle;\n",
       "    }\n",
       "\n",
       "    .dataframe tbody tr th {\n",
       "        vertical-align: top;\n",
       "    }\n",
       "\n",
       "    .dataframe thead th {\n",
       "        text-align: right;\n",
       "    }\n",
       "</style>\n",
       "<table border=\"1\" class=\"dataframe\">\n",
       "  <thead>\n",
       "    <tr style=\"text-align: right;\">\n",
       "      <th></th>\n",
       "      <th>neutral</th>\n",
       "      <th>very positive</th>\n",
       "      <th>very negative</th>\n",
       "      <th>slightly positive</th>\n",
       "      <th>slightly negative</th>\n",
       "    </tr>\n",
       "  </thead>\n",
       "  <tbody>\n",
       "    <tr>\n",
       "      <th>neutral</th>\n",
       "      <td>0</td>\n",
       "      <td>0</td>\n",
       "      <td>5</td>\n",
       "      <td>0</td>\n",
       "      <td>0</td>\n",
       "    </tr>\n",
       "    <tr>\n",
       "      <th>very positive</th>\n",
       "      <td>0</td>\n",
       "      <td>0</td>\n",
       "      <td>26</td>\n",
       "      <td>0</td>\n",
       "      <td>0</td>\n",
       "    </tr>\n",
       "    <tr>\n",
       "      <th>very negative</th>\n",
       "      <td>0</td>\n",
       "      <td>0</td>\n",
       "      <td>109</td>\n",
       "      <td>0</td>\n",
       "      <td>0</td>\n",
       "    </tr>\n",
       "    <tr>\n",
       "      <th>slightly positive</th>\n",
       "      <td>0</td>\n",
       "      <td>0</td>\n",
       "      <td>41</td>\n",
       "      <td>0</td>\n",
       "      <td>0</td>\n",
       "    </tr>\n",
       "    <tr>\n",
       "      <th>slightly negative</th>\n",
       "      <td>0</td>\n",
       "      <td>0</td>\n",
       "      <td>10</td>\n",
       "      <td>0</td>\n",
       "      <td>0</td>\n",
       "    </tr>\n",
       "  </tbody>\n",
       "</table>\n",
       "</div>"
      ],
      "text/plain": [
       "                   neutral  very positive  very negative  slightly positive  \\\n",
       "neutral                  0              0              5                  0   \n",
       "very positive            0              0             26                  0   \n",
       "very negative            0              0            109                  0   \n",
       "slightly positive        0              0             41                  0   \n",
       "slightly negative        0              0             10                  0   \n",
       "\n",
       "                   slightly negative  \n",
       "neutral                            0  \n",
       "very positive                      0  \n",
       "very negative                      0  \n",
       "slightly positive                  0  \n",
       "slightly negative                  0  "
      ]
     },
     "execution_count": 765,
     "metadata": {},
     "output_type": "execute_result"
    }
   ],
   "source": [
    "pd.DataFrame(confusion_matrix(pca_predictions.select('sentiment').collect(), \n",
    "             pca_predictions.select('predictedLabel').collect()),\n",
    "             columns = display_label, \n",
    "             index= display_label)"
   ]
  },
  {
   "cell_type": "markdown",
   "metadata": {},
   "source": [
    "##### PCA with tf/idf data and Random Forest"
   ]
  },
  {
   "cell_type": "code",
   "execution_count": 439,
   "metadata": {},
   "outputs": [],
   "source": [
    "pca = PCA(k=10, inputCol=\"tfidf_vector\", outputCol=\"pcaFeatures\")\n",
    "model = pca.fit(tfidf_df)\n",
    "\n",
    "result = model.transform(tfidf_df)"
   ]
  },
  {
   "cell_type": "code",
   "execution_count": 766,
   "metadata": {},
   "outputs": [],
   "source": [
    "# Build the training indexers / split data / classifier\n",
    "# first we'll generate a labelIndexer\n",
    "labelIndexer = StringIndexer(inputCol=\"sentiment\", outputCol=\"indexedLabel\").fit(result)\n",
    "\n",
    "# now generate the indexed feature vector\n",
    "featureIndexer = VectorIndexer(inputCol=\"pcaFeatures\", outputCol=\"indexedFeatures\", maxCategories=4).fit(result)\n",
    "    \n",
    "# Split the data into training and validation sets (30% held out for testing)\n",
    "(pca_trainingData_tf, pca_testData_tf) = result.randomSplit([TRAINING_DATA_RATIO, 1 - TRAINING_DATA_RATIO])\n",
    "\n",
    "# Train a RandomForest model.\n",
    "rf = RandomForestClassifier(labelCol=\"indexedLabel\", featuresCol=\"indexedFeatures\", numTrees=RF_NUM_TREES)\n",
    "\n",
    "# Convert indexed labels back to original labels.\n",
    "labelConverter = IndexToString(inputCol=\"prediction\", outputCol=\"predictedLabel\",\n",
    "                               labels=labelIndexer.labels)\n",
    "\n",
    "# Chain indexers and forest in a Pipeline\n",
    "pipeline = Pipeline(stages=[labelIndexer, featureIndexer, rf, labelConverter])"
   ]
  },
  {
   "cell_type": "code",
   "execution_count": 767,
   "metadata": {},
   "outputs": [
    {
     "name": "stdout",
     "output_type": "stream",
     "text": [
      "Test Error = 0.338462\n",
      "Accuracy = 0.661538\n"
     ]
    }
   ],
   "source": [
    "# Train model.  This also runs the indexers.\n",
    "pca_model = pipeline.fit(pca_trainingData_tf)\n",
    "# Make predictions.\n",
    "pca_predictions_tf = pca_model.transform(pca_testData_tf)\n",
    "\n",
    "# Select (prediction, true label) and compute test error\n",
    "evaluator = MulticlassClassificationEvaluator(\n",
    "    labelCol=\"indexedLabel\", predictionCol=\"prediction\", metricName=\"accuracy\")\n",
    "accuracy = evaluator.evaluate(pca_predictions_tf)\n",
    "\n",
    "print(f\"Test Error = {(1.0 - accuracy):g}\")\n",
    "print(f\"Accuracy = {accuracy:g}\")"
   ]
  },
  {
   "cell_type": "code",
   "execution_count": 769,
   "metadata": {},
   "outputs": [
    {
     "data": {
      "text/html": [
       "<div>\n",
       "<style scoped>\n",
       "    .dataframe tbody tr th:only-of-type {\n",
       "        vertical-align: middle;\n",
       "    }\n",
       "\n",
       "    .dataframe tbody tr th {\n",
       "        vertical-align: top;\n",
       "    }\n",
       "\n",
       "    .dataframe thead th {\n",
       "        text-align: right;\n",
       "    }\n",
       "</style>\n",
       "<table border=\"1\" class=\"dataframe\">\n",
       "  <thead>\n",
       "    <tr style=\"text-align: right;\">\n",
       "      <th></th>\n",
       "      <th>neutral</th>\n",
       "      <th>very positive</th>\n",
       "      <th>very negative</th>\n",
       "      <th>slightly positive</th>\n",
       "      <th>slightly negative</th>\n",
       "    </tr>\n",
       "  </thead>\n",
       "  <tbody>\n",
       "    <tr>\n",
       "      <th>neutral</th>\n",
       "      <td>0</td>\n",
       "      <td>0</td>\n",
       "      <td>3</td>\n",
       "      <td>0</td>\n",
       "      <td>0</td>\n",
       "    </tr>\n",
       "    <tr>\n",
       "      <th>very positive</th>\n",
       "      <td>0</td>\n",
       "      <td>0</td>\n",
       "      <td>21</td>\n",
       "      <td>0</td>\n",
       "      <td>0</td>\n",
       "    </tr>\n",
       "    <tr>\n",
       "      <th>very negative</th>\n",
       "      <td>0</td>\n",
       "      <td>0</td>\n",
       "      <td>129</td>\n",
       "      <td>0</td>\n",
       "      <td>0</td>\n",
       "    </tr>\n",
       "    <tr>\n",
       "      <th>slightly positive</th>\n",
       "      <td>0</td>\n",
       "      <td>0</td>\n",
       "      <td>34</td>\n",
       "      <td>0</td>\n",
       "      <td>0</td>\n",
       "    </tr>\n",
       "    <tr>\n",
       "      <th>slightly negative</th>\n",
       "      <td>0</td>\n",
       "      <td>0</td>\n",
       "      <td>7</td>\n",
       "      <td>1</td>\n",
       "      <td>0</td>\n",
       "    </tr>\n",
       "  </tbody>\n",
       "</table>\n",
       "</div>"
      ],
      "text/plain": [
       "                   neutral  very positive  very negative  slightly positive  \\\n",
       "neutral                  0              0              3                  0   \n",
       "very positive            0              0             21                  0   \n",
       "very negative            0              0            129                  0   \n",
       "slightly positive        0              0             34                  0   \n",
       "slightly negative        0              0              7                  1   \n",
       "\n",
       "                   slightly negative  \n",
       "neutral                            0  \n",
       "very positive                      0  \n",
       "very negative                      0  \n",
       "slightly positive                  0  \n",
       "slightly negative                  0  "
      ]
     },
     "execution_count": 769,
     "metadata": {},
     "output_type": "execute_result"
    }
   ],
   "source": [
    "pd.DataFrame(confusion_matrix(pca_predictions_tf.select('sentiment').collect(), \n",
    "             pca_predictions_tf.select('predictedLabel').collect()),\n",
    "             columns = display_label, \n",
    "             index= display_label)"
   ]
  },
  {
   "cell_type": "markdown",
   "metadata": {},
   "source": [
    "##### PCA with tf/idf and Logistic regression"
   ]
  },
  {
   "cell_type": "code",
   "execution_count": 772,
   "metadata": {},
   "outputs": [
    {
     "name": "stdout",
     "output_type": "stream",
     "text": [
      "+---------+--------------------+-----------------+--------------------+--------------------+--------------------+\n",
      "|sentiment|                text|sentiment_encoded|      tokenized_text|          w2v_vector|         pcaFeatures|\n",
      "+---------+--------------------+-----------------+--------------------+--------------------+--------------------+\n",
      "|        1|\"\"\"Driver-less ca...|                1|[\"\"\"driver-less, ...|[0.00421577897903...|[-0.1158061037854...|\n",
      "|        1|\"8:28 AM - The dr...|                1|[\"8:28, am, -, th...|[0.00465906232737...|[-0.1097614065674...|\n",
      "|        1|@d3signerd Ì¢‰âÂå...|                1|[@d3signerd, ì¢‰â...|[0.00788420691969...|[-0.1494378231530...|\n",
      "|        1|@drgitlin yes, I ...|                1|[@drgitlin, yes,,...|[0.00661176691175...|[-0.1431551413024...|\n",
      "|        1|@google watched t...|                1|[@google, watched...|[0.00477988349040...|[-0.1040094240407...|\n",
      "+---------+--------------------+-----------------+--------------------+--------------------+--------------------+\n",
      "only showing top 5 rows\n",
      "\n"
     ]
    }
   ],
   "source": [
    "pca_trainingData_tf.show(5)"
   ]
  },
  {
   "cell_type": "code",
   "execution_count": 773,
   "metadata": {},
   "outputs": [],
   "source": [
    "lr = LogisticRegression(featuresCol=\"pcaFeatures\", labelCol=\"sentiment_encoded\",predictionCol=\"prediction\", maxIter=10,\n",
    "                        regParam=0.3, elasticNetParam=0.8, family=\"multinomial\")"
   ]
  },
  {
   "cell_type": "code",
   "execution_count": 774,
   "metadata": {},
   "outputs": [
    {
     "name": "stdout",
     "output_type": "stream",
     "text": [
      "Test Error = 0.338462\n",
      "Accuracy = 0.661538\n"
     ]
    }
   ],
   "source": [
    "# Train model.  This also runs the indexers.\n",
    "pca_model = lr.fit(pca_trainingData_tf)\n",
    "# Make predictions.\n",
    "pca_predictions = pca_model.transform(pca_testData_tf)\n",
    "\n",
    "# Select (prediction, true label) and compute test error\n",
    "evaluator = MulticlassClassificationEvaluator(\n",
    "    labelCol=\"sentiment_encoded\", predictionCol=\"prediction\", metricName=\"accuracy\")\n",
    "accuracy = evaluator.evaluate(pca_predictions)\n",
    "\n",
    "print(f\"Test Error = {(1.0 - accuracy):g}\")\n",
    "print(f\"Accuracy = {accuracy:g}\")"
   ]
  },
  {
   "cell_type": "markdown",
   "metadata": {},
   "source": [
    "#### PCA with Word2Vec and Logistic Regression"
   ]
  },
  {
   "cell_type": "code",
   "execution_count": 775,
   "metadata": {},
   "outputs": [],
   "source": [
    "pca = PCA(k=10, inputCol=\"w2v_vector\", outputCol=\"pca_w2v_Features\")\n",
    "model = pca.fit(w2vdf)\n",
    "\n",
    "result = model.transform(w2vdf)"
   ]
  },
  {
   "cell_type": "code",
   "execution_count": 779,
   "metadata": {},
   "outputs": [],
   "source": [
    "# Build the training indexers / split data / classifier\n",
    "# first we'll generate a labelIndexer\n",
    "labelIndexer = StringIndexer(inputCol=\"sentiment_encoded\", outputCol=\"indexedLabel\").fit(result)\n",
    "\n",
    "# now generate the indexed feature vector\n",
    "featureIndexer = VectorIndexer(inputCol=\"pca_w2v_Features\", outputCol=\"indexedFeatures\", maxCategories=4).fit(result)\n",
    "    \n",
    "# Split the data into training and validation sets (30% held out for testing)\n",
    "(pca_trainingData, pca_testData) = result.randomSplit([TRAINING_DATA_RATIO, 1 - TRAINING_DATA_RATIO])\n",
    "\n",
    "# Train a RandomForest model.\n",
    "rf = RandomForestClassifier(labelCol=\"indexedLabel\", featuresCol=\"indexedFeatures\", numTrees=RF_NUM_TREES)\n",
    "\n",
    "# Convert indexed labels back to original labels.\n",
    "labelConverter = IndexToString(inputCol=\"prediction\", outputCol=\"predictedLabel\",\n",
    "                               labels=labelIndexer.labels)\n",
    "\n",
    "# Chain indexers and forest in a Pipeline\n",
    "pipeline = Pipeline(stages=[labelIndexer, featureIndexer, rf, labelConverter])"
   ]
  },
  {
   "cell_type": "code",
   "execution_count": 780,
   "metadata": {},
   "outputs": [
    {
     "name": "stdout",
     "output_type": "stream",
     "text": [
      "Test Error = 0.42132\n",
      "Accuracy = 0.57868\n"
     ]
    }
   ],
   "source": [
    "# Train model.  This also runs the indexers.\n",
    "pca_model = pipeline.fit(pca_trainingData)\n",
    "pca_predictions = pca_model.transform(pca_testData)\n",
    "\n",
    "# Select (prediction, true label) and compute test error\n",
    "evaluator = MulticlassClassificationEvaluator(\n",
    "    labelCol=\"indexedLabel\", predictionCol=\"prediction\", metricName=\"accuracy\")\n",
    "accuracy = evaluator.evaluate(pca_predictions)\n",
    "\n",
    "print(f\"Test Error = {(1.0 - accuracy):g}\")\n",
    "print(f\"Accuracy = {accuracy:g}\")"
   ]
  },
  {
   "cell_type": "code",
   "execution_count": null,
   "metadata": {},
   "outputs": [],
   "source": []
  }
 ],
 "metadata": {
  "kernelspec": {
   "display_name": "Python 3",
   "language": "python",
   "name": "python3"
  },
  "language_info": {
   "codemirror_mode": {
    "name": "ipython",
    "version": 3
   },
   "file_extension": ".py",
   "mimetype": "text/x-python",
   "name": "python",
   "nbconvert_exporter": "python",
   "pygments_lexer": "ipython3",
   "version": "3.6.3"
  }
 },
 "nbformat": 4,
 "nbformat_minor": 2
}
